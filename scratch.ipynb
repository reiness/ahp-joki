{
 "cells": [
  {
   "cell_type": "code",
   "execution_count": 1,
   "metadata": {},
   "outputs": [],
   "source": [
    "import ahpy\n",
    "import numpy"
   ]
  },
  {
   "cell_type": "markdown",
   "metadata": {},
   "source": [
    "# Example"
   ]
  },
  {
   "cell_type": "code",
   "execution_count": 18,
   "metadata": {},
   "outputs": [
    {
     "name": "stdout",
     "output_type": "stream",
     "text": [
      "{'Nell': 0.493, 'Moll': 0.358, 'Sue': 0.15}\n",
      "0.062\n"
     ]
    }
   ],
   "source": [
    "experience_comparisons = {('Moll', 'Nell'): 1/4, ('Moll', 'Sue'): 4, ('Nell', 'Sue'): 9}\n",
    "education_comparisons = {('Moll', 'Nell'): 3, ('Moll', 'Sue'): 1/5, ('Nell', 'Sue'): 1/7}\n",
    "charisma_comparisons = {('Moll', 'Nell'): 5, ('Moll', 'Sue'): 9, ('Nell', 'Sue'): 4}\n",
    "age_comparisons = {('Moll', 'Nell'): 1/3, ('Moll', 'Sue'): 5, ('Nell', 'Sue'): 9}\n",
    "\n",
    "\n",
    "\n",
    "criteria_comparisons = {('Experience', 'Education'): 4, ('Experience', 'Charisma'): 3, ('Experience', 'Age'): 7,\n",
    "\t\t\t    ('Education', 'Charisma'): 1/3, ('Education', 'Age'): 3,\n",
    "\t\t\t    ('Charisma', 'Age'): 5}\n",
    "\n",
    "\n",
    "\n",
    "experience = ahpy.Compare('Experience', experience_comparisons, precision=3, random_index='saaty')\n",
    "education = ahpy.Compare('Education', education_comparisons, precision=3, random_index='saaty')\n",
    "charisma = ahpy.Compare('Charisma', charisma_comparisons, precision=3, random_index='saaty')\n",
    "age = ahpy.Compare('Age', age_comparisons, precision=3, random_index='saaty')\n",
    "criteria = ahpy.Compare('Criteria', criteria_comparisons, precision=3, random_index='saaty')\n",
    "\n",
    "\n",
    "\n",
    "criteria.add_children([experience, education, charisma, age])\n",
    "\n",
    "print(criteria.target_weights)\n",
    "print(education.consistency_ratio)"
   ]
  },
  {
   "cell_type": "markdown",
   "metadata": {},
   "source": [
    "# Practices"
   ]
  },
  {
   "cell_type": "code",
   "execution_count": 8,
   "metadata": {},
   "outputs": [
    {
     "name": "stdout",
     "output_type": "stream",
     "text": [
      "Provide pairwise comparisons for Playerbase (on a scale of 1 to 9):\n",
      "Provide pairwise comparisons for Market Size (on a scale of 1 to 9):\n",
      "Provide pairwise comparisons for Policy (on a scale of 1 to 9):\n",
      "Provide pairwise comparisons for Competitors (on a scale of 1 to 9):\n",
      "DEBUGS - {'Playerbase': {('genshin', 'hsr'): 1}, 'Market Size': {('genshin', 'hsr'): 2}, 'Policy': {('genshin', 'hsr'): 3}, 'Competitors': {('genshin', 'hsr'): 1}}\n",
      "Target Weights for Criteria:\n",
      "{'genshin': 0.58, 'hsr': 0.42}\n"
     ]
    }
   ],
   "source": [
    "import ahpy\n",
    "\n",
    "def get_alternatives():\n",
    "    alternatives = []\n",
    "    num_alternatives = int(input(\"Enter the number of alternatives (up to 5): \"))\n",
    "    for i in range(num_alternatives):\n",
    "        alternative = input(f\"Enter alternative {i+1}: \")\n",
    "        alternatives.append(alternative)\n",
    "    return alternatives\n",
    "\n",
    "def get_criteria():\n",
    "    return [\"Playerbase\", \"Market Size\", \"Policy\", \"Competitors\"]\n",
    "\n",
    "def get_pairwise_comparisons(criteria, alternatives):\n",
    "    pairwise_comparisons = {}\n",
    "    for criterion in criteria:\n",
    "        print(f\"Provide pairwise comparisons for {criterion} (on a scale of 1 to 9):\")\n",
    "        comparisons = {}\n",
    "        for i in range(len(alternatives)):\n",
    "            for j in range(i+1, len(alternatives)):\n",
    "                while True:\n",
    "                    comparison = int(input(f\"Enter the relative importance of {alternatives[i]} compared to {alternatives[j]} for {criterion}: \"))\n",
    "                    if 1 <= comparison <= 9:\n",
    "                        break\n",
    "                    else:\n",
    "                        print(\"Please enter a value between 1 and 9.\")\n",
    "                comparisons[(alternatives[i], alternatives[j])] = comparison\n",
    "        pairwise_comparisons[criterion] = comparisons\n",
    "    return pairwise_comparisons\n",
    "\n",
    "def check_consistency(pairwise_comparisons):\n",
    "    for criterion, comparisons in pairwise_comparisons.items():\n",
    "        comparison = ahpy.Compare(criterion, comparisons, precision=3, random_index='saaty')\n",
    "        if comparison.consistency_ratio > 0.1:\n",
    "            print(f\"The consistency ratio for {criterion} is greater than 0.1. Please input again.\")\n",
    "            return True\n",
    "    return False\n",
    "\n",
    "def main():\n",
    "    alternatives = get_alternatives()\n",
    "    criteria = get_criteria()\n",
    "    pairwise_comparisons = get_pairwise_comparisons(criteria, alternatives)\n",
    "\n",
    "    while check_consistency(pairwise_comparisons):\n",
    "        pairwise_comparisons = get_pairwise_comparisons(criteria, alternatives)\n",
    "\n",
    "    criteria_comparisons = {\n",
    "        ('Playerbase', 'Market Size'): 2,\n",
    "        ('Playerbase', 'Policy'): 3,\n",
    "        ('Playerbase', 'Competitors'): 5,\n",
    "        ('Market Size', 'Policy'): 1/4,\n",
    "        ('Market Size', 'Competitors'): 1/3,\n",
    "        ('Policy', 'Competitors'): 2\n",
    "    }\n",
    "\n",
    "    criteria_comparison = ahpy.Compare('Criteria', criteria_comparisons, precision=3, random_index='saaty')\n",
    "\n",
    "    print('DEBUGS -', pairwise_comparisons)\n",
    "\n",
    "    criteria_objects = []\n",
    "    for criterion in criteria:\n",
    "        comparison = ahpy.Compare(criterion, pairwise_comparisons[criterion], precision=3, random_index='saaty')\n",
    "        criteria_objects.append(comparison)\n",
    "\n",
    "    criteria_comparison.add_children(criteria_objects)\n",
    "\n",
    "    print(\"Target Weights for Criteria:\")\n",
    "    print(criteria_comparison.target_weights)\n",
    "\n",
    "\n",
    "if __name__ == \"__main__\":\n",
    "    main()\n"
   ]
  },
  {
   "cell_type": "code",
   "execution_count": 6,
   "metadata": {},
   "outputs": [
    {
     "name": "stdout",
     "output_type": "stream",
     "text": [
      "['a', 'b']\n"
     ]
    }
   ],
   "source": [
    "abc = ['a','b']\n",
    "print(abc)"
   ]
  },
  {
   "cell_type": "code",
   "execution_count": 7,
   "metadata": {},
   "outputs": [
    {
     "name": "stdout",
     "output_type": "stream",
     "text": [
      "[]\n"
     ]
    }
   ],
   "source": [
    "abc.clear()\n",
    "print(abc)"
   ]
  }
 ],
 "metadata": {
  "kernelspec": {
   "display_name": "Python 3",
   "language": "python",
   "name": "python3"
  },
  "language_info": {
   "codemirror_mode": {
    "name": "ipython",
    "version": 3
   },
   "file_extension": ".py",
   "mimetype": "text/x-python",
   "name": "python",
   "nbconvert_exporter": "python",
   "pygments_lexer": "ipython3",
   "version": "3.11.4"
  }
 },
 "nbformat": 4,
 "nbformat_minor": 2
}
